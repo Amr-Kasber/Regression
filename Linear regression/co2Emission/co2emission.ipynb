{
  "nbformat": 4,
  "nbformat_minor": 0,
  "metadata": {
    "colab": {
      "provenance": [],
      "authorship_tag": "ABX9TyOhL/JqN3sfw9TBJkEW9rtU",
      "include_colab_link": true
    },
    "kernelspec": {
      "name": "python3",
      "display_name": "Python 3"
    },
    "language_info": {
      "name": "python"
    }
  },
  "cells": [
    {
      "cell_type": "markdown",
      "metadata": {
        "id": "view-in-github",
        "colab_type": "text"
      },
      "source": [
        "<a href=\"https://colab.research.google.com/github/Amr-Kasber/Regression/blob/main/Linear%20regression/co2Emission/co2emission.ipynb\" target=\"_parent\"><img src=\"https://colab.research.google.com/assets/colab-badge.svg\" alt=\"Open In Colab\"/></a>"
      ]
    },
    {
      "cell_type": "markdown",
      "source": [
        "# Co2Emission"
      ],
      "metadata": {
        "id": "M_UKwfH1fZmH"
      }
    },
    {
      "cell_type": "markdown",
      "source": [
        "This notebook was created during taking the course (pyhon for machine learning). That is the first course of the IBM AI engineer certification.\n",
        "This notebook is created for learning purposes, and it tackles the problem of predicting the co2Emission for cars."
      ],
      "metadata": {
        "id": "vETO7oAdfeXf"
      }
    },
    {
      "cell_type": "code",
      "execution_count": null,
      "metadata": {
        "id": "vBUUdBK1cNWG"
      },
      "outputs": [],
      "source": []
    }
  ]
}